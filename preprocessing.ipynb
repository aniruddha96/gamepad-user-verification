{
 "cells": [
  {
   "cell_type": "code",
   "execution_count": 1,
   "id": "f892a055",
   "metadata": {},
   "outputs": [],
   "source": [
    "import pandas as pd\n",
    "import numpy as np"
   ]
  },
  {
   "cell_type": "code",
   "execution_count": 2,
   "id": "b094146c",
   "metadata": {},
   "outputs": [],
   "source": [
    "def preprocess(path,label):\n",
    "    df = pd.read_csv(path,usecols=['time','A','B','X','Y','LeftDPad','RightDPad','UpDPad','DownDPad','LeftJoystickX', \n",
    "                                   'LeftJoystickY', 'RightJoystickY' ,'RightJoystickX','LeftBumper','RightBumper','LeftTrigger','RightTrigger'])\n",
    "    timedifs = df.time.diff()\n",
    "    df['time_diff'] = timedifs\n",
    "    df['time_diff'] = df['time_diff'].fillna(0.000000)\n",
    "    df['label'] = np.array(label)\n",
    "    df.reindex()\n",
    "    return df.loc[:,['time_diff','A','B','X','Y','LeftJoystickX','LeftJoystickY','LeftBumper','RightBumper','LeftTrigger','RightTrigger'\n",
    "             ,'LeftBumper','RightBumper','LeftTrigger','RightTrigger','label']]"
   ]
  },
  {
   "cell_type": "code",
   "execution_count": 3,
   "id": "edb6ed28",
   "metadata": {},
   "outputs": [],
   "source": [
    "user_train=preprocess(\"D:\\\\github\\\\gamepad-user-verification\\\\datasets\\\\user.csv\",0)\n",
    "user_train.to_csv(\"D:\\\\github\\\\gamepad-user-verification\\\\datasets\\\\user_final.csv\", index = False)\n",
    "\n",
    "user_test=preprocess(\"D:\\\\github\\\\gamepad-user-verification\\\\datasets\\\\user_test.csv\",0)\n",
    "user_test.to_csv(\"D:\\\\github\\\\gamepad-user-verification\\\\datasets\\\\user_test_final.csv\", index = False)\n",
    "\n",
    "imposter_train=preprocess(\"D:\\\\github\\\\gamepad-user-verification\\\\datasets\\\\imposter.csv\",1)\n",
    "imposter_train.to_csv(\"D:\\\\github\\\\gamepad-user-verification\\\\datasets\\\\imposter_final.csv\", index = False)\n",
    "\n",
    "imposter_test=preprocess(\"D:\\\\github\\\\gamepad-user-verification\\\\datasets\\\\imposter_test.csv\",1)\n",
    "imposter_test.to_csv(\"D:\\\\github\\\\gamepad-user-verification\\\\datasets\\\\imposter_test_final.csv\", index = False)"
   ]
  },
  {
   "cell_type": "code",
   "execution_count": 4,
   "id": "17655e31",
   "metadata": {},
   "outputs": [],
   "source": [
    "frames = [user_train, imposter_train]\n",
    "train_data = pd.concat(frames)\n",
    "train_data.to_csv(\"D:\\\\github\\\\gamepad-user-verification\\\\datasets\\\\final_train_data.csv\", index = False)\n",
    "\n",
    "frames = [user_test, imposter_test]\n",
    "test_data = pd.concat(frames)\n",
    "test_data.to_csv(\"D:\\\\github\\\\gamepad-user-verification\\\\datasets\\\\final_test_data.csv\", index = False)"
   ]
  },
  {
   "cell_type": "code",
   "execution_count": 5,
   "id": "23aa5f67",
   "metadata": {},
   "outputs": [
    {
     "data": {
      "text/plain": [
       "(319998, 16)"
      ]
     },
     "execution_count": 5,
     "metadata": {},
     "output_type": "execute_result"
    }
   ],
   "source": [
    "train_data.shape"
   ]
  },
  {
   "cell_type": "code",
   "execution_count": null,
   "id": "b9ecc92f",
   "metadata": {},
   "outputs": [],
   "source": []
  },
  {
   "cell_type": "code",
   "execution_count": null,
   "id": "4b37d364",
   "metadata": {},
   "outputs": [],
   "source": []
  },
  {
   "cell_type": "code",
   "execution_count": null,
   "id": "5aa64e56",
   "metadata": {},
   "outputs": [],
   "source": []
  }
 ],
 "metadata": {
  "kernelspec": {
   "display_name": "Python 3 (ipykernel)",
   "language": "python",
   "name": "python3"
  },
  "language_info": {
   "codemirror_mode": {
    "name": "ipython",
    "version": 3
   },
   "file_extension": ".py",
   "mimetype": "text/x-python",
   "name": "python",
   "nbconvert_exporter": "python",
   "pygments_lexer": "ipython3",
   "version": "3.9.7"
  }
 },
 "nbformat": 4,
 "nbformat_minor": 5
}
